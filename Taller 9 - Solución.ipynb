{
 "cells": [
  {
   "attachments": {},
   "cell_type": "markdown",
   "metadata": {},
   "source": [
    "# Taller 9\n",
    "\n",
    "### Aprendizaje en Redes Bayesianas: Estructura\n",
    "\n",
    "##### Analítica Computacional para la Toma de Decisiones\n",
    "\n",
    "---\n",
    "\n",
    "|     Nombres      |      Apellidos       |     Login     |  Codigo   |\n",
    "| :--------------: | :------------------: | :-----------: | :-------: |\n",
    "|     Santiago     | Gonzalez Montealegre | s.gonzalez35  | 202012274 |\n",
    "| Juliana Carolina |  Cardenas Barragan   | jc.cardenasb1 | 202011683 |"
   ]
  },
  {
   "attachments": {},
   "cell_type": "markdown",
   "metadata": {},
   "source": [
    "## Librerías Requeridas"
   ]
  },
  {
   "cell_type": "code",
   "execution_count": 1,
   "metadata": {},
   "outputs": [],
   "source": [
    "import pandas as pd\n",
    "from pgmpy.estimators import PC\n",
    "from pgmpy.models import BayesianNetwork\n",
    "from pgmpy.estimators import MaximumLikelihoodEstimator\n",
    "from pgmpy.estimators import HillClimbSearch\n",
    "from pgmpy.estimators import K2Score\n",
    "from pgmpy.estimators import BicScore\n",
    "import numpy as np"
   ]
  },
  {
   "attachments": {},
   "cell_type": "markdown",
   "metadata": {},
   "source": [
    "## Estimando la estructura de un modelo a partir de datos: Restricciones"
   ]
  },
  {
   "attachments": {},
   "cell_type": "markdown",
   "metadata": {},
   "source": [
    "### 1"
   ]
  },
  {
   "cell_type": "code",
   "execution_count": 2,
   "metadata": {},
   "outputs": [
    {
     "data": {
      "text/html": [
       "<div>\n",
       "<style scoped>\n",
       "    .dataframe tbody tr th:only-of-type {\n",
       "        vertical-align: middle;\n",
       "    }\n",
       "\n",
       "    .dataframe tbody tr th {\n",
       "        vertical-align: top;\n",
       "    }\n",
       "\n",
       "    .dataframe thead th {\n",
       "        text-align: right;\n",
       "    }\n",
       "</style>\n",
       "<table border=\"1\" class=\"dataframe\">\n",
       "  <thead>\n",
       "    <tr style=\"text-align: right;\">\n",
       "      <th></th>\n",
       "      <th>Unnamed: 0</th>\n",
       "      <th>asia</th>\n",
       "      <th>tub</th>\n",
       "      <th>smoke</th>\n",
       "      <th>lung</th>\n",
       "      <th>bronc</th>\n",
       "      <th>either</th>\n",
       "      <th>xray</th>\n",
       "      <th>dysp</th>\n",
       "    </tr>\n",
       "  </thead>\n",
       "  <tbody>\n",
       "    <tr>\n",
       "      <th>0</th>\n",
       "      <td>0</td>\n",
       "      <td>no</td>\n",
       "      <td>no</td>\n",
       "      <td>no</td>\n",
       "      <td>no</td>\n",
       "      <td>yes</td>\n",
       "      <td>no</td>\n",
       "      <td>no</td>\n",
       "      <td>no</td>\n",
       "    </tr>\n",
       "    <tr>\n",
       "      <th>1</th>\n",
       "      <td>1</td>\n",
       "      <td>no</td>\n",
       "      <td>no</td>\n",
       "      <td>no</td>\n",
       "      <td>yes</td>\n",
       "      <td>no</td>\n",
       "      <td>yes</td>\n",
       "      <td>yes</td>\n",
       "      <td>no</td>\n",
       "    </tr>\n",
       "    <tr>\n",
       "      <th>2</th>\n",
       "      <td>2</td>\n",
       "      <td>no</td>\n",
       "      <td>no</td>\n",
       "      <td>no</td>\n",
       "      <td>no</td>\n",
       "      <td>no</td>\n",
       "      <td>no</td>\n",
       "      <td>no</td>\n",
       "      <td>no</td>\n",
       "    </tr>\n",
       "    <tr>\n",
       "      <th>3</th>\n",
       "      <td>3</td>\n",
       "      <td>no</td>\n",
       "      <td>no</td>\n",
       "      <td>yes</td>\n",
       "      <td>no</td>\n",
       "      <td>yes</td>\n",
       "      <td>no</td>\n",
       "      <td>no</td>\n",
       "      <td>yes</td>\n",
       "    </tr>\n",
       "    <tr>\n",
       "      <th>4</th>\n",
       "      <td>4</td>\n",
       "      <td>no</td>\n",
       "      <td>no</td>\n",
       "      <td>yes</td>\n",
       "      <td>no</td>\n",
       "      <td>no</td>\n",
       "      <td>no</td>\n",
       "      <td>no</td>\n",
       "      <td>no</td>\n",
       "    </tr>\n",
       "  </tbody>\n",
       "</table>\n",
       "</div>"
      ],
      "text/plain": [
       "   Unnamed: 0 asia tub smoke lung bronc either xray dysp\n",
       "0           0   no  no    no   no   yes     no   no   no\n",
       "1           1   no  no    no  yes    no    yes  yes   no\n",
       "2           2   no  no    no   no    no     no   no   no\n",
       "3           3   no  no   yes   no   yes     no   no  yes\n",
       "4           4   no  no   yes   no    no     no   no   no"
      ]
     },
     "execution_count": 2,
     "metadata": {},
     "output_type": "execute_result"
    }
   ],
   "source": [
    "df = pd.read_csv(\"Data/data_asia.csv\")\n",
    "df.head()"
   ]
  },
  {
   "cell_type": "code",
   "execution_count": 3,
   "metadata": {},
   "outputs": [
    {
     "data": {
      "text/html": [
       "<div>\n",
       "<style scoped>\n",
       "    .dataframe tbody tr th:only-of-type {\n",
       "        vertical-align: middle;\n",
       "    }\n",
       "\n",
       "    .dataframe tbody tr th {\n",
       "        vertical-align: top;\n",
       "    }\n",
       "\n",
       "    .dataframe thead th {\n",
       "        text-align: right;\n",
       "    }\n",
       "</style>\n",
       "<table border=\"1\" class=\"dataframe\">\n",
       "  <thead>\n",
       "    <tr style=\"text-align: right;\">\n",
       "      <th></th>\n",
       "      <th>asia</th>\n",
       "      <th>tub</th>\n",
       "      <th>smoke</th>\n",
       "      <th>lung</th>\n",
       "      <th>bronc</th>\n",
       "      <th>either</th>\n",
       "      <th>xray</th>\n",
       "      <th>dysp</th>\n",
       "    </tr>\n",
       "  </thead>\n",
       "  <tbody>\n",
       "    <tr>\n",
       "      <th>0</th>\n",
       "      <td>no</td>\n",
       "      <td>no</td>\n",
       "      <td>no</td>\n",
       "      <td>no</td>\n",
       "      <td>yes</td>\n",
       "      <td>no</td>\n",
       "      <td>no</td>\n",
       "      <td>no</td>\n",
       "    </tr>\n",
       "    <tr>\n",
       "      <th>1</th>\n",
       "      <td>no</td>\n",
       "      <td>no</td>\n",
       "      <td>no</td>\n",
       "      <td>yes</td>\n",
       "      <td>no</td>\n",
       "      <td>yes</td>\n",
       "      <td>yes</td>\n",
       "      <td>no</td>\n",
       "    </tr>\n",
       "    <tr>\n",
       "      <th>2</th>\n",
       "      <td>no</td>\n",
       "      <td>no</td>\n",
       "      <td>no</td>\n",
       "      <td>no</td>\n",
       "      <td>no</td>\n",
       "      <td>no</td>\n",
       "      <td>no</td>\n",
       "      <td>no</td>\n",
       "    </tr>\n",
       "    <tr>\n",
       "      <th>3</th>\n",
       "      <td>no</td>\n",
       "      <td>no</td>\n",
       "      <td>yes</td>\n",
       "      <td>no</td>\n",
       "      <td>yes</td>\n",
       "      <td>no</td>\n",
       "      <td>no</td>\n",
       "      <td>yes</td>\n",
       "    </tr>\n",
       "    <tr>\n",
       "      <th>4</th>\n",
       "      <td>no</td>\n",
       "      <td>no</td>\n",
       "      <td>yes</td>\n",
       "      <td>no</td>\n",
       "      <td>no</td>\n",
       "      <td>no</td>\n",
       "      <td>no</td>\n",
       "      <td>no</td>\n",
       "    </tr>\n",
       "  </tbody>\n",
       "</table>\n",
       "</div>"
      ],
      "text/plain": [
       "  asia tub smoke lung bronc either xray dysp\n",
       "0   no  no    no   no   yes     no   no   no\n",
       "1   no  no    no  yes    no    yes  yes   no\n",
       "2   no  no    no   no    no     no   no   no\n",
       "3   no  no   yes   no   yes     no   no  yes\n",
       "4   no  no   yes   no    no     no   no   no"
      ]
     },
     "execution_count": 3,
     "metadata": {},
     "output_type": "execute_result"
    }
   ],
   "source": [
    "df.drop(\"Unnamed: 0\", axis=1, inplace=True)\n",
    "df.head()"
   ]
  },
  {
   "cell_type": "code",
   "execution_count": 4,
   "metadata": {},
   "outputs": [
    {
     "data": {
      "text/html": [
       "<div>\n",
       "<style scoped>\n",
       "    .dataframe tbody tr th:only-of-type {\n",
       "        vertical-align: middle;\n",
       "    }\n",
       "\n",
       "    .dataframe tbody tr th {\n",
       "        vertical-align: top;\n",
       "    }\n",
       "\n",
       "    .dataframe thead th {\n",
       "        text-align: right;\n",
       "    }\n",
       "</style>\n",
       "<table border=\"1\" class=\"dataframe\">\n",
       "  <thead>\n",
       "    <tr style=\"text-align: right;\">\n",
       "      <th></th>\n",
       "      <th>asia</th>\n",
       "      <th>tub</th>\n",
       "      <th>smoke</th>\n",
       "      <th>lung</th>\n",
       "      <th>bronc</th>\n",
       "      <th>either</th>\n",
       "      <th>xray</th>\n",
       "      <th>dysp</th>\n",
       "    </tr>\n",
       "  </thead>\n",
       "  <tbody>\n",
       "    <tr>\n",
       "      <th>count</th>\n",
       "      <td>100000</td>\n",
       "      <td>100000</td>\n",
       "      <td>100000</td>\n",
       "      <td>100000</td>\n",
       "      <td>100000</td>\n",
       "      <td>100000</td>\n",
       "      <td>100000</td>\n",
       "      <td>100000</td>\n",
       "    </tr>\n",
       "    <tr>\n",
       "      <th>unique</th>\n",
       "      <td>2</td>\n",
       "      <td>2</td>\n",
       "      <td>2</td>\n",
       "      <td>2</td>\n",
       "      <td>2</td>\n",
       "      <td>2</td>\n",
       "      <td>2</td>\n",
       "      <td>2</td>\n",
       "    </tr>\n",
       "    <tr>\n",
       "      <th>top</th>\n",
       "      <td>no</td>\n",
       "      <td>no</td>\n",
       "      <td>no</td>\n",
       "      <td>no</td>\n",
       "      <td>no</td>\n",
       "      <td>no</td>\n",
       "      <td>no</td>\n",
       "      <td>no</td>\n",
       "    </tr>\n",
       "    <tr>\n",
       "      <th>freq</th>\n",
       "      <td>99057</td>\n",
       "      <td>98917</td>\n",
       "      <td>50054</td>\n",
       "      <td>94501</td>\n",
       "      <td>55093</td>\n",
       "      <td>93477</td>\n",
       "      <td>88991</td>\n",
       "      <td>56376</td>\n",
       "    </tr>\n",
       "  </tbody>\n",
       "</table>\n",
       "</div>"
      ],
      "text/plain": [
       "          asia     tub   smoke    lung   bronc  either    xray    dysp\n",
       "count   100000  100000  100000  100000  100000  100000  100000  100000\n",
       "unique       2       2       2       2       2       2       2       2\n",
       "top         no      no      no      no      no      no      no      no\n",
       "freq     99057   98917   50054   94501   55093   93477   88991   56376"
      ]
     },
     "execution_count": 4,
     "metadata": {},
     "output_type": "execute_result"
    }
   ],
   "source": [
    "df.describe()"
   ]
  },
  {
   "cell_type": "code",
   "execution_count": 5,
   "metadata": {},
   "outputs": [
    {
     "data": {
      "text/plain": [
       "Index(['asia', 'tub', 'smoke', 'lung', 'bronc', 'either', 'xray', 'dysp'], dtype='object')"
      ]
     },
     "execution_count": 5,
     "metadata": {},
     "output_type": "execute_result"
    }
   ],
   "source": [
    "df.columns"
   ]
  },
  {
   "attachments": {},
   "cell_type": "markdown",
   "metadata": {},
   "source": [
    "### 2"
   ]
  },
  {
   "cell_type": "code",
   "execution_count": 6,
   "metadata": {},
   "outputs": [
    {
     "data": {
      "application/vnd.jupyter.widget-view+json": {
       "model_id": "6b60a23f57db46ad810a667d37c3074d",
       "version_major": 2,
       "version_minor": 0
      },
      "text/plain": [
       "  0%|          | 0/4 [00:00<?, ?it/s]"
      ]
     },
     "metadata": {},
     "output_type": "display_data"
    }
   ],
   "source": [
    "est = PC(data=df)\n",
    "estimated_model = est.estimate(variant=\"stable\", max_cond_vars=4)"
   ]
  },
  {
   "cell_type": "code",
   "execution_count": 7,
   "metadata": {},
   "outputs": [
    {
     "name": "stdout",
     "output_type": "stream",
     "text": [
      "DAG with 8 nodes and 8 edges\n",
      "['either', 'xray', 'bronc', 'dysp', 'tub', 'lung', 'smoke', 'asia']\n",
      "[('either', 'xray'), ('either', 'dysp'), ('bronc', 'dysp'), ('tub', 'either'), ('lung', 'either'), ('smoke', 'bronc'), ('smoke', 'lung'), ('asia', 'tub')]\n"
     ]
    }
   ],
   "source": [
    "print(estimated_model)\n",
    "print(estimated_model.nodes())\n",
    "print(estimated_model.edges())"
   ]
  },
  {
   "attachments": {},
   "cell_type": "markdown",
   "metadata": {},
   "source": [
    "### 3"
   ]
  },
  {
   "cell_type": "code",
   "execution_count": 8,
   "metadata": {},
   "outputs": [
    {
     "name": "stdout",
     "output_type": "stream",
     "text": [
      "+-------------+----------+----------+-----------+-----------+\n",
      "| lung        | lung(no) | lung(no) | lung(yes) | lung(yes) |\n",
      "+-------------+----------+----------+-----------+-----------+\n",
      "| tub         | tub(no)  | tub(yes) | tub(no)   | tub(yes)  |\n",
      "+-------------+----------+----------+-----------+-----------+\n",
      "| either(no)  | 1.0      | 0.0      | 0.0       | 0.0       |\n",
      "+-------------+----------+----------+-----------+-----------+\n",
      "| either(yes) | 0.0      | 1.0      | 1.0       | 1.0       |\n",
      "+-------------+----------+----------+-----------+-----------+\n",
      "+-----------+----------------------+---------------------+\n",
      "| either    | either(no)           | either(yes)         |\n",
      "+-----------+----------------------+---------------------+\n",
      "| xray(no)  | 0.9506402644500787   | 0.01962287291123716 |\n",
      "+-----------+----------------------+---------------------+\n",
      "| xray(yes) | 0.049359735549921374 | 0.9803771270887628  |\n",
      "+-----------+----------------------+---------------------+\n",
      "+------------+---------------------+---------------------+\n",
      "| smoke      | smoke(no)           | smoke(yes)          |\n",
      "+------------+---------------------+---------------------+\n",
      "| bronc(no)  | 0.7000039956846605  | 0.40153365634885674 |\n",
      "+------------+---------------------+---------------------+\n",
      "| bronc(yes) | 0.29999600431533946 | 0.5984663436511433  |\n",
      "+------------+---------------------+---------------------+\n",
      "+-----------+---------------------+-----+---------------------+\n",
      "| bronc     | bronc(no)           | ... | bronc(yes)          |\n",
      "+-----------+---------------------+-----+---------------------+\n",
      "| either    | either(no)          | ... | either(yes)         |\n",
      "+-----------+---------------------+-----+---------------------+\n",
      "| dysp(no)  | 0.8995302463809798  | ... | 0.09483960948396095 |\n",
      "+-----------+---------------------+-----+---------------------+\n",
      "| dysp(yes) | 0.10046975361902023 | ... | 0.905160390516039   |\n",
      "+-----------+---------------------+-----+---------------------+\n",
      "+----------+----------------------+---------------------+\n",
      "| asia     | asia(no)             | asia(yes)           |\n",
      "+----------+----------------------+---------------------+\n",
      "| tub(no)  | 0.9895918511564049   | 0.9448568398727466  |\n",
      "+----------+----------------------+---------------------+\n",
      "| tub(yes) | 0.010408148843595103 | 0.05514316012725345 |\n",
      "+----------+----------------------+---------------------+\n",
      "+-----------+----------------------+---------------------+\n",
      "| smoke     | smoke(no)            | smoke(yes)          |\n",
      "+-----------+----------------------+---------------------+\n",
      "| lung(no)  | 0.9905701842010628   | 0.8993512994033557  |\n",
      "+-----------+----------------------+---------------------+\n",
      "| lung(yes) | 0.009429815798937148 | 0.10064870059664438 |\n",
      "+-----------+----------------------+---------------------+\n",
      "+------------+---------+\n",
      "| smoke(no)  | 0.50054 |\n",
      "+------------+---------+\n",
      "| smoke(yes) | 0.49946 |\n",
      "+------------+---------+\n",
      "+-----------+---------+\n",
      "| asia(no)  | 0.99057 |\n",
      "+-----------+---------+\n",
      "| asia(yes) | 0.00943 |\n",
      "+-----------+---------+\n"
     ]
    }
   ],
   "source": [
    "estimated_model = BayesianNetwork(estimated_model)\n",
    "estimated_model.fit(data=df, estimator=MaximumLikelihoodEstimator)\n",
    "\n",
    "for i in estimated_model.nodes():\n",
    "    print(estimated_model.get_cpds(i))"
   ]
  },
  {
   "attachments": {},
   "cell_type": "markdown",
   "metadata": {},
   "source": [
    "## Estimando la estructura de un modelo a partir de datos: Puntajes"
   ]
  },
  {
   "cell_type": "markdown",
   "metadata": {},
   "source": [
    "### 1"
   ]
  },
  {
   "cell_type": "code",
   "execution_count": 9,
   "metadata": {},
   "outputs": [
    {
     "data": {
      "application/vnd.jupyter.widget-view+json": {
       "model_id": "d8c84cee9ac043e39dab5c0f2af9e94f",
       "version_major": 2,
       "version_minor": 0
      },
      "text/plain": [
       "  0%|          | 0/10000 [00:00<?, ?it/s]"
      ]
     },
     "metadata": {},
     "output_type": "display_data"
    }
   ],
   "source": [
    "scoring_method = K2Score(data=df)\n",
    "esth = HillClimbSearch(data=df)\n",
    "estimated_modelh = esth.estimate(\n",
    "    scoring_method=scoring_method,\n",
    "    max_indegree=4,\n",
    "    max_iter=int(1e4)\n",
    "    )"
   ]
  },
  {
   "cell_type": "code",
   "execution_count": 10,
   "metadata": {},
   "outputs": [
    {
     "name": "stdout",
     "output_type": "stream",
     "text": [
      "DAG with 8 nodes and 9 edges\n",
      "['asia', 'tub', 'smoke', 'lung', 'bronc', 'either', 'xray', 'dysp']\n",
      "[('asia', 'tub'), ('tub', 'either'), ('tub', 'dysp'), ('smoke', 'bronc'), ('lung', 'either'), ('lung', 'dysp'), ('lung', 'smoke'), ('bronc', 'dysp'), ('either', 'xray')]\n"
     ]
    }
   ],
   "source": [
    "print(estimated_modelh)\n",
    "print(estimated_modelh.nodes())\n",
    "print(estimated_modelh.edges())"
   ]
  },
  {
   "attachments": {},
   "cell_type": "markdown",
   "metadata": {},
   "source": [
    "### 2"
   ]
  },
  {
   "cell_type": "code",
   "execution_count": 11,
   "metadata": {},
   "outputs": [
    {
     "name": "stdout",
     "output_type": "stream",
     "text": [
      "-223501.6696113951\n"
     ]
    }
   ],
   "source": [
    "print(scoring_method.score(estimated_modelh))"
   ]
  },
  {
   "attachments": {},
   "cell_type": "markdown",
   "metadata": {},
   "source": [
    "### 3"
   ]
  },
  {
   "cell_type": "code",
   "execution_count": 12,
   "metadata": {},
   "outputs": [],
   "source": [
    "# Repetir"
   ]
  },
  {
   "attachments": {},
   "cell_type": "markdown",
   "metadata": {},
   "source": [
    "## Ahora con Otra Red y Datos"
   ]
  },
  {
   "attachments": {},
   "cell_type": "markdown",
   "metadata": {},
   "source": [
    "### 1"
   ]
  },
  {
   "cell_type": "code",
   "execution_count": 13,
   "metadata": {},
   "outputs": [
    {
     "name": "stdout",
     "output_type": "stream",
     "text": [
      "There are 10 indicators in the dataframe.\n"
     ]
    }
   ],
   "source": [
    "def annual_growth(row, years):\n",
    "    min_year = years[\"min\"]\n",
    "    max_year = years[\"max\"]\n",
    "    row[\"Indicator Name\"] = row[\"Indicator Name\"] + \" - [annual growth %]\"\n",
    "    for year in range(max_year, min_year, -1):\n",
    "        if not np.isnan(row[str(year)]) and not np.isnan(row[str(year - 1)]):\n",
    "            row[str(year)] = 100 * (float(row[str(year)]) - float(row[str(year - 1)])) / abs(float(row[str(year - 1)]))\n",
    "        else:\n",
    "            row[str(year)] = np.nan\n",
    "            row[str(min_year)] = np.nan\n",
    "    return row\n",
    "\n",
    "years = {\"min\" : 1960, \"max\" : 2019}\n",
    "df_raw = pd.read_csv(\"Data/italy-raw-data.csv\")\n",
    "df_raw_growth = pd.DataFrame(data=[row if \"growth\" in row[\"Indicator Name\"] else annual_growth(row, years) for index, row in df_raw.iterrows()])\n",
    "\n",
    "print(\"There are \" + str(df_raw_growth.shape[0]) + \" indicators in the dataframe.\")"
   ]
  },
  {
   "cell_type": "code",
   "execution_count": 14,
   "metadata": {},
   "outputs": [
    {
     "name": "stdout",
     "output_type": "stream",
     "text": [
      "  Country Name Country Code  \\\n",
      "0        Italy          ITA   \n",
      "1        Italy          ITA   \n",
      "2        Italy          ITA   \n",
      "3        Italy          ITA   \n",
      "4        Italy          ITA   \n",
      "\n",
      "                                      Indicator Name     Indicator Code  \\\n",
      "0                       Population growth (annual %)        SP.POP.GROW   \n",
      "1                 Urban population growth (annual %)        SP.URB.GROW   \n",
      "2                   GDP per capita growth (annual %)  NY.GDP.PCAP.KD.ZG   \n",
      "3  Energy use (kg of oil equivalent per capita) -...  EG.USE.PCAP.KG.OE   \n",
      "4  Fossil fuel energy consumption (% of total) - ...  EG.USE.COMM.FO.ZS   \n",
      "\n",
      "       1960      1961       1962       1963      1964      1965  ...  \\\n",
      "0  1.993928  0.668383   0.676623   0.729553  0.822624  0.842109  ...   \n",
      "1  2.836401  1.498807   1.506833   1.551287  1.636027  1.642485  ...   \n",
      "2       NaN  7.486419   5.487478   4.842052  1.955533  2.402046  ...   \n",
      "3       NaN       NaN  13.064053  11.188621  9.110076  7.753922  ...   \n",
      "4       NaN       NaN   1.933224  -0.167728  1.075163 -0.074481  ...   \n",
      "\n",
      "       2010      2011      2012      2013      2014      2015      2016  \\\n",
      "0  0.307591  0.171978  0.269541  1.159251  0.917504 -0.096376 -0.169884   \n",
      "1  0.480439  0.343066  0.619579  1.587835  1.341371  0.325701  0.246127   \n",
      "2  1.400915  0.534287 -3.242060 -2.972404 -0.917814  0.875477  1.451875   \n",
      "3  2.113919 -3.486796 -4.211107 -4.791839 -6.396212  2.786129       NaN   \n",
      "4 -0.262284 -0.193760 -2.679745 -2.721392 -1.723158  1.733165       NaN   \n",
      "\n",
      "       2017      2018  2019  \n",
      "0 -0.149861 -0.190064   NaN  \n",
      "1  0.262999  0.228198   NaN  \n",
      "2  1.868715  0.966058   NaN  \n",
      "3       NaN       NaN   NaN  \n",
      "4       NaN       NaN   NaN  \n",
      "\n",
      "[5 rows x 64 columns]\n"
     ]
    }
   ],
   "source": [
    "print(df_raw_growth.head())"
   ]
  },
  {
   "attachments": {},
   "cell_type": "markdown",
   "metadata": {},
   "source": [
    "### 2"
   ]
  },
  {
   "cell_type": "code",
   "execution_count": 15,
   "metadata": {},
   "outputs": [
    {
     "name": "stdout",
     "output_type": "stream",
     "text": [
      "           Pop       Urb       GDP         EC      FFEC  REC        EI  \\\n",
      "1960  1.993928  2.836401       NaN        NaN       NaN  NaN       NaN   \n",
      "1961  0.668383  1.498807  7.486419        NaN       NaN  NaN       NaN   \n",
      "1962  0.676623  1.506833  5.487478  13.064053  1.933224  NaN  5.753948   \n",
      "1963  0.729553  1.551287  4.842052  11.188621 -0.167728  NaN  2.519427   \n",
      "1964  0.822624  1.636027  1.955533   9.110076  1.075163  NaN  0.631028   \n",
      "1965  0.842109  1.642485  2.402046   7.753922 -0.074481  NaN  2.335057   \n",
      "1966  0.777304  1.568113  5.164163   8.706029  0.552096  NaN  1.518473   \n",
      "1967  0.723778   1.50361  6.405678   8.416381   1.19174  NaN  1.938004   \n",
      "1968  0.631737  1.403955  5.873595    9.46868  0.880322  NaN  1.596269   \n",
      "1969  0.566059  1.326087   5.49918   7.893911  0.940778  NaN  0.725698   \n",
      "\n",
      "            CO2  CH4  N2O  \n",
      "1960        NaN  NaN  NaN  \n",
      "1961        NaN  NaN  NaN  \n",
      "1962  17.588694  NaN  NaN  \n",
      "1963   12.51158  NaN  NaN  \n",
      "1964    6.78298  NaN  NaN  \n",
      "1965   7.848449  NaN  NaN  \n",
      "1966  12.900483  NaN  NaN  \n",
      "1967   9.418752  NaN  NaN  \n",
      "1968   6.427443  NaN  NaN  \n",
      "1969   8.221876  NaN  NaN  \n"
     ]
    }
   ],
   "source": [
    "nodes = ['Pop', 'Urb', 'GDP', 'EC', 'FFEC', 'REC', 'EI', 'CO2', 'CH4', 'N2O']\n",
    "df_growth = df_raw_growth.transpose().iloc[4:]\n",
    "df_growth.columns = nodes\n",
    "\n",
    "print(df_growth.head(10))"
   ]
  },
  {
   "attachments": {},
   "cell_type": "markdown",
   "metadata": {},
   "source": [
    "### 3"
   ]
  },
  {
   "cell_type": "code",
   "execution_count": 16,
   "metadata": {},
   "outputs": [
    {
     "data": {
      "text/html": [
       "<div>\n",
       "<style scoped>\n",
       "    .dataframe tbody tr th:only-of-type {\n",
       "        vertical-align: middle;\n",
       "    }\n",
       "\n",
       "    .dataframe tbody tr th {\n",
       "        vertical-align: top;\n",
       "    }\n",
       "\n",
       "    .dataframe thead th {\n",
       "        text-align: right;\n",
       "    }\n",
       "</style>\n",
       "<table border=\"1\" class=\"dataframe\">\n",
       "  <thead>\n",
       "    <tr style=\"text-align: right;\">\n",
       "      <th></th>\n",
       "      <th>Pop</th>\n",
       "      <th>Urb</th>\n",
       "      <th>GDP</th>\n",
       "      <th>EC</th>\n",
       "      <th>FFEC</th>\n",
       "      <th>REC</th>\n",
       "      <th>EI</th>\n",
       "      <th>CO2</th>\n",
       "      <th>CH4</th>\n",
       "      <th>N2O</th>\n",
       "    </tr>\n",
       "  </thead>\n",
       "  <tbody>\n",
       "    <tr>\n",
       "      <th>1960</th>\n",
       "      <td>C: +0.50 to +1.99</td>\n",
       "      <td>C: +0.82 to +2.84</td>\n",
       "      <td>NaN</td>\n",
       "      <td>NaN</td>\n",
       "      <td>NaN</td>\n",
       "      <td>NaN</td>\n",
       "      <td>NaN</td>\n",
       "      <td>NaN</td>\n",
       "      <td>NaN</td>\n",
       "      <td>NaN</td>\n",
       "    </tr>\n",
       "    <tr>\n",
       "      <th>1961</th>\n",
       "      <td>C: +0.50 to +1.99</td>\n",
       "      <td>C: +0.82 to +2.84</td>\n",
       "      <td>C: +2.89 to +7.49</td>\n",
       "      <td>NaN</td>\n",
       "      <td>NaN</td>\n",
       "      <td>NaN</td>\n",
       "      <td>NaN</td>\n",
       "      <td>NaN</td>\n",
       "      <td>NaN</td>\n",
       "      <td>NaN</td>\n",
       "    </tr>\n",
       "    <tr>\n",
       "      <th>1962</th>\n",
       "      <td>C: +0.50 to +1.99</td>\n",
       "      <td>C: +0.82 to +2.84</td>\n",
       "      <td>C: +2.89 to +7.49</td>\n",
       "      <td>C: +2.77 to +13.06</td>\n",
       "      <td>C: +0.15 to +2.11</td>\n",
       "      <td>NaN</td>\n",
       "      <td>C: +0.73 to +5.75</td>\n",
       "      <td>C: +3.81 to +17.59</td>\n",
       "      <td>NaN</td>\n",
       "      <td>NaN</td>\n",
       "    </tr>\n",
       "    <tr>\n",
       "      <th>1963</th>\n",
       "      <td>C: +0.50 to +1.99</td>\n",
       "      <td>C: +0.82 to +2.84</td>\n",
       "      <td>C: +2.89 to +7.49</td>\n",
       "      <td>C: +2.77 to +13.06</td>\n",
       "      <td>B: -0.44 to +0.15</td>\n",
       "      <td>NaN</td>\n",
       "      <td>C: +0.73 to +5.75</td>\n",
       "      <td>C: +3.81 to +17.59</td>\n",
       "      <td>NaN</td>\n",
       "      <td>NaN</td>\n",
       "    </tr>\n",
       "    <tr>\n",
       "      <th>1964</th>\n",
       "      <td>C: +0.50 to +1.99</td>\n",
       "      <td>C: +0.82 to +2.84</td>\n",
       "      <td>B: +1.24 to +2.89</td>\n",
       "      <td>C: +2.77 to +13.06</td>\n",
       "      <td>C: +0.15 to +2.11</td>\n",
       "      <td>NaN</td>\n",
       "      <td>B: -0.40 to +0.73</td>\n",
       "      <td>C: +3.81 to +17.59</td>\n",
       "      <td>NaN</td>\n",
       "      <td>NaN</td>\n",
       "    </tr>\n",
       "    <tr>\n",
       "      <th>1965</th>\n",
       "      <td>C: +0.50 to +1.99</td>\n",
       "      <td>C: +0.82 to +2.84</td>\n",
       "      <td>B: +1.24 to +2.89</td>\n",
       "      <td>C: +2.77 to +13.06</td>\n",
       "      <td>B: -0.44 to +0.15</td>\n",
       "      <td>NaN</td>\n",
       "      <td>C: +0.73 to +5.75</td>\n",
       "      <td>C: +3.81 to +17.59</td>\n",
       "      <td>NaN</td>\n",
       "      <td>NaN</td>\n",
       "    </tr>\n",
       "    <tr>\n",
       "      <th>1966</th>\n",
       "      <td>C: +0.50 to +1.99</td>\n",
       "      <td>C: +0.82 to +2.84</td>\n",
       "      <td>C: +2.89 to +7.49</td>\n",
       "      <td>C: +2.77 to +13.06</td>\n",
       "      <td>C: +0.15 to +2.11</td>\n",
       "      <td>NaN</td>\n",
       "      <td>C: +0.73 to +5.75</td>\n",
       "      <td>C: +3.81 to +17.59</td>\n",
       "      <td>NaN</td>\n",
       "      <td>NaN</td>\n",
       "    </tr>\n",
       "    <tr>\n",
       "      <th>1967</th>\n",
       "      <td>C: +0.50 to +1.99</td>\n",
       "      <td>C: +0.82 to +2.84</td>\n",
       "      <td>C: +2.89 to +7.49</td>\n",
       "      <td>C: +2.77 to +13.06</td>\n",
       "      <td>C: +0.15 to +2.11</td>\n",
       "      <td>NaN</td>\n",
       "      <td>C: +0.73 to +5.75</td>\n",
       "      <td>C: +3.81 to +17.59</td>\n",
       "      <td>NaN</td>\n",
       "      <td>NaN</td>\n",
       "    </tr>\n",
       "    <tr>\n",
       "      <th>1968</th>\n",
       "      <td>C: +0.50 to +1.99</td>\n",
       "      <td>C: +0.82 to +2.84</td>\n",
       "      <td>C: +2.89 to +7.49</td>\n",
       "      <td>C: +2.77 to +13.06</td>\n",
       "      <td>C: +0.15 to +2.11</td>\n",
       "      <td>NaN</td>\n",
       "      <td>C: +0.73 to +5.75</td>\n",
       "      <td>C: +3.81 to +17.59</td>\n",
       "      <td>NaN</td>\n",
       "      <td>NaN</td>\n",
       "    </tr>\n",
       "    <tr>\n",
       "      <th>1969</th>\n",
       "      <td>C: +0.50 to +1.99</td>\n",
       "      <td>C: +0.82 to +2.84</td>\n",
       "      <td>C: +2.89 to +7.49</td>\n",
       "      <td>C: +2.77 to +13.06</td>\n",
       "      <td>C: +0.15 to +2.11</td>\n",
       "      <td>NaN</td>\n",
       "      <td>B: -0.40 to +0.73</td>\n",
       "      <td>C: +3.81 to +17.59</td>\n",
       "      <td>NaN</td>\n",
       "      <td>NaN</td>\n",
       "    </tr>\n",
       "  </tbody>\n",
       "</table>\n",
       "</div>"
      ],
      "text/plain": [
       "                    Pop                Urb                GDP  \\\n",
       "1960  C: +0.50 to +1.99  C: +0.82 to +2.84                NaN   \n",
       "1961  C: +0.50 to +1.99  C: +0.82 to +2.84  C: +2.89 to +7.49   \n",
       "1962  C: +0.50 to +1.99  C: +0.82 to +2.84  C: +2.89 to +7.49   \n",
       "1963  C: +0.50 to +1.99  C: +0.82 to +2.84  C: +2.89 to +7.49   \n",
       "1964  C: +0.50 to +1.99  C: +0.82 to +2.84  B: +1.24 to +2.89   \n",
       "1965  C: +0.50 to +1.99  C: +0.82 to +2.84  B: +1.24 to +2.89   \n",
       "1966  C: +0.50 to +1.99  C: +0.82 to +2.84  C: +2.89 to +7.49   \n",
       "1967  C: +0.50 to +1.99  C: +0.82 to +2.84  C: +2.89 to +7.49   \n",
       "1968  C: +0.50 to +1.99  C: +0.82 to +2.84  C: +2.89 to +7.49   \n",
       "1969  C: +0.50 to +1.99  C: +0.82 to +2.84  C: +2.89 to +7.49   \n",
       "\n",
       "                      EC               FFEC  REC                 EI  \\\n",
       "1960                 NaN                NaN  NaN                NaN   \n",
       "1961                 NaN                NaN  NaN                NaN   \n",
       "1962  C: +2.77 to +13.06  C: +0.15 to +2.11  NaN  C: +0.73 to +5.75   \n",
       "1963  C: +2.77 to +13.06  B: -0.44 to +0.15  NaN  C: +0.73 to +5.75   \n",
       "1964  C: +2.77 to +13.06  C: +0.15 to +2.11  NaN  B: -0.40 to +0.73   \n",
       "1965  C: +2.77 to +13.06  B: -0.44 to +0.15  NaN  C: +0.73 to +5.75   \n",
       "1966  C: +2.77 to +13.06  C: +0.15 to +2.11  NaN  C: +0.73 to +5.75   \n",
       "1967  C: +2.77 to +13.06  C: +0.15 to +2.11  NaN  C: +0.73 to +5.75   \n",
       "1968  C: +2.77 to +13.06  C: +0.15 to +2.11  NaN  C: +0.73 to +5.75   \n",
       "1969  C: +2.77 to +13.06  C: +0.15 to +2.11  NaN  B: -0.40 to +0.73   \n",
       "\n",
       "                     CO2  CH4  N2O  \n",
       "1960                 NaN  NaN  NaN  \n",
       "1961                 NaN  NaN  NaN  \n",
       "1962  C: +3.81 to +17.59  NaN  NaN  \n",
       "1963  C: +3.81 to +17.59  NaN  NaN  \n",
       "1964  C: +3.81 to +17.59  NaN  NaN  \n",
       "1965  C: +3.81 to +17.59  NaN  NaN  \n",
       "1966  C: +3.81 to +17.59  NaN  NaN  \n",
       "1967  C: +3.81 to +17.59  NaN  NaN  \n",
       "1968  C: +3.81 to +17.59  NaN  NaN  \n",
       "1969  C: +3.81 to +17.59  NaN  NaN  "
      ]
     },
     "execution_count": 16,
     "metadata": {},
     "output_type": "execute_result"
    }
   ],
   "source": [
    "TIERS_NUM = 3\n",
    "\n",
    "def boundary_str(start, end, tier):\n",
    "    return f'{tier}: {start:+0,.2f} to {end:+0,.2f}'\n",
    "\n",
    "def relabel_value(v, boundaries):\n",
    "    if v >= boundaries[0][0] and v <= boundaries[0][1]:\n",
    "        return boundary_str(boundaries[0][0], boundaries[0][1], tier='A')\n",
    "    elif v >= boundaries[1][0] and v <= boundaries[1][1]:\n",
    "        return boundary_str(boundaries[1][0], boundaries[1][1], tier='B')\n",
    "    elif v >= boundaries[2][0] and v <= boundaries[2][1]:\n",
    "        return boundary_str(boundaries[2][0], boundaries[2][1], tier='C')\n",
    "    else:\n",
    "        return np.nan\n",
    "\n",
    "def relabel(values, boundaries):\n",
    "    result = []\n",
    "    for v in values:\n",
    "        result.append(relabel_value(v, boundaries))\n",
    "    return result\n",
    "\n",
    "def get_boundaries(tiers):\n",
    "    prev_tier = tiers[0]\n",
    "    boundaries = [(prev_tier[0], prev_tier[prev_tier.shape[0] - 1])]\n",
    "    for index, tier in enumerate(tiers):\n",
    "        if index != 0:\n",
    "            boundaries.append((prev_tier[prev_tier.shape[0] - 1], tier[tier.shape[0] - 1]))\n",
    "            prev_tier = tier\n",
    "    return boundaries\n",
    "\n",
    "new_columns = {}\n",
    "for i, content in enumerate(df_growth.items()):\n",
    "    (label, series) = content\n",
    "    values = np.sort(np.array([x for x in series.tolist() if not np.isnan(x)] , dtype=float))\n",
    "    if values.shape[0] < TIERS_NUM:\n",
    "        print(f'Error: there are not enough data for label {label}')\n",
    "        break\n",
    "    boundaries = get_boundaries(tiers=np.array_split(values, TIERS_NUM))\n",
    "    new_columns[label] = relabel(series.tolist(), boundaries)\n",
    "\n",
    "df = pd.DataFrame(data=new_columns)\n",
    "df.columns = nodes\n",
    "df.index = range(years[\"min\"], years[\"max\"] + 1)\n",
    "\n",
    "df.head(10)"
   ]
  },
  {
   "attachments": {},
   "cell_type": "markdown",
   "metadata": {},
   "source": [
    "### 6"
   ]
  },
  {
   "cell_type": "code",
   "execution_count": 18,
   "metadata": {},
   "outputs": [],
   "source": [
    "model = BayesianNetwork([\n",
    "    ('Pop', 'EC'),\n",
    "    ('Urb', 'EC'),\n",
    "    ('GDP', 'EC'),\n",
    "    ('EC', 'FFEC'),\n",
    "    ('EC', 'REC'),\n",
    "    ('EC', 'EI'),\n",
    "    ('REC', 'CO2'),\n",
    "    ('REC', 'CH4'),\n",
    "    ('REC', 'N2O'),\n",
    "    ('FFEC', 'CO2'),\n",
    "    ('FFEC', 'CH4'),\n",
    "    ('FFEC', 'N2O'),\n",
    "    ])"
   ]
  }
 ],
 "metadata": {
  "kernelspec": {
   "display_name": "Python 3",
   "language": "python",
   "name": "python3"
  },
  "language_info": {
   "codemirror_mode": {
    "name": "ipython",
    "version": 3
   },
   "file_extension": ".py",
   "mimetype": "text/x-python",
   "name": "python",
   "nbconvert_exporter": "python",
   "pygments_lexer": "ipython3",
   "version": "3.10.6"
  },
  "orig_nbformat": 4
 },
 "nbformat": 4,
 "nbformat_minor": 2
}
