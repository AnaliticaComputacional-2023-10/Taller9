{
 "cells": [
  {
   "attachments": {},
   "cell_type": "markdown",
   "metadata": {},
   "source": [
    "# Taller 9\n",
    "\n",
    "### Aprendizaje en Redes Bayesianas: Estructura\n",
    "\n",
    "##### Analítica Computacional para la Toma de Decisiones\n",
    "\n",
    "---\n",
    "\n",
    "|     Nombres      |      Apellidos       |     Login     |  Codigo   |\n",
    "| :--------------: | :------------------: | :-----------: | :-------: |\n",
    "|     Santiago     | Gonzalez Montealegre | s.gonzalez35  | 202012274 |\n",
    "| Juliana Carolina |  Cardenas Barragan   | jc.cardenasb1 | 202011683 |"
   ]
  },
  {
   "attachments": {},
   "cell_type": "markdown",
   "metadata": {},
   "source": [
    "## Estimando la estructura de un modelo a partir de datos: __Restricciones__"
   ]
  },
  {
   "cell_type": "markdown",
   "metadata": {},
   "source": [
    "## Librerías Requeridas"
   ]
  },
  {
   "cell_type": "code",
   "execution_count": 19,
   "metadata": {},
   "outputs": [],
   "source": [
    "import pandas as pd\n",
    "import networkx as nx\n",
    "import matplotlib.pyplot as plt\n",
    "from pgmpy.estimators import PC\n",
    "from pgmpy.models import BayesianNetwork\n",
    "from pgmpy.estimators import MaximumLikelihoodEstimator"
   ]
  },
  {
   "attachments": {},
   "cell_type": "markdown",
   "metadata": {},
   "source": [
    "### 1 - Carga de Datos"
   ]
  },
  {
   "cell_type": "code",
   "execution_count": 4,
   "metadata": {},
   "outputs": [
    {
     "data": {
      "text/html": [
       "<div>\n",
       "<style scoped>\n",
       "    .dataframe tbody tr th:only-of-type {\n",
       "        vertical-align: middle;\n",
       "    }\n",
       "\n",
       "    .dataframe tbody tr th {\n",
       "        vertical-align: top;\n",
       "    }\n",
       "\n",
       "    .dataframe thead th {\n",
       "        text-align: right;\n",
       "    }\n",
       "</style>\n",
       "<table border=\"1\" class=\"dataframe\">\n",
       "  <thead>\n",
       "    <tr style=\"text-align: right;\">\n",
       "      <th></th>\n",
       "      <th>asia</th>\n",
       "      <th>tub</th>\n",
       "      <th>smoke</th>\n",
       "      <th>lung</th>\n",
       "      <th>bronc</th>\n",
       "      <th>either</th>\n",
       "      <th>xray</th>\n",
       "      <th>dysp</th>\n",
       "    </tr>\n",
       "  </thead>\n",
       "  <tbody>\n",
       "    <tr>\n",
       "      <th>0</th>\n",
       "      <td>no</td>\n",
       "      <td>no</td>\n",
       "      <td>no</td>\n",
       "      <td>no</td>\n",
       "      <td>yes</td>\n",
       "      <td>no</td>\n",
       "      <td>no</td>\n",
       "      <td>no</td>\n",
       "    </tr>\n",
       "    <tr>\n",
       "      <th>1</th>\n",
       "      <td>no</td>\n",
       "      <td>no</td>\n",
       "      <td>no</td>\n",
       "      <td>yes</td>\n",
       "      <td>no</td>\n",
       "      <td>yes</td>\n",
       "      <td>yes</td>\n",
       "      <td>no</td>\n",
       "    </tr>\n",
       "    <tr>\n",
       "      <th>2</th>\n",
       "      <td>no</td>\n",
       "      <td>no</td>\n",
       "      <td>no</td>\n",
       "      <td>no</td>\n",
       "      <td>no</td>\n",
       "      <td>no</td>\n",
       "      <td>no</td>\n",
       "      <td>no</td>\n",
       "    </tr>\n",
       "    <tr>\n",
       "      <th>3</th>\n",
       "      <td>no</td>\n",
       "      <td>no</td>\n",
       "      <td>yes</td>\n",
       "      <td>no</td>\n",
       "      <td>yes</td>\n",
       "      <td>no</td>\n",
       "      <td>no</td>\n",
       "      <td>yes</td>\n",
       "    </tr>\n",
       "    <tr>\n",
       "      <th>4</th>\n",
       "      <td>no</td>\n",
       "      <td>no</td>\n",
       "      <td>yes</td>\n",
       "      <td>no</td>\n",
       "      <td>no</td>\n",
       "      <td>no</td>\n",
       "      <td>no</td>\n",
       "      <td>no</td>\n",
       "    </tr>\n",
       "  </tbody>\n",
       "</table>\n",
       "</div>"
      ],
      "text/plain": [
       "  asia tub smoke lung bronc either xray dysp\n",
       "0   no  no    no   no   yes     no   no   no\n",
       "1   no  no    no  yes    no    yes  yes   no\n",
       "2   no  no    no   no    no     no   no   no\n",
       "3   no  no   yes   no   yes     no   no  yes\n",
       "4   no  no   yes   no    no     no   no   no"
      ]
     },
     "execution_count": 4,
     "metadata": {},
     "output_type": "execute_result"
    }
   ],
   "source": [
    "df = pd.read_csv(\"../Data/data_asia.csv\")\n",
    "df.drop(\"Unnamed: 0\", axis=1, inplace=True)\n",
    "\n",
    "df.head()"
   ]
  },
  {
   "cell_type": "code",
   "execution_count": 5,
   "metadata": {},
   "outputs": [
    {
     "data": {
      "text/html": [
       "<div>\n",
       "<style scoped>\n",
       "    .dataframe tbody tr th:only-of-type {\n",
       "        vertical-align: middle;\n",
       "    }\n",
       "\n",
       "    .dataframe tbody tr th {\n",
       "        vertical-align: top;\n",
       "    }\n",
       "\n",
       "    .dataframe thead th {\n",
       "        text-align: right;\n",
       "    }\n",
       "</style>\n",
       "<table border=\"1\" class=\"dataframe\">\n",
       "  <thead>\n",
       "    <tr style=\"text-align: right;\">\n",
       "      <th></th>\n",
       "      <th>asia</th>\n",
       "      <th>tub</th>\n",
       "      <th>smoke</th>\n",
       "      <th>lung</th>\n",
       "      <th>bronc</th>\n",
       "      <th>either</th>\n",
       "      <th>xray</th>\n",
       "      <th>dysp</th>\n",
       "    </tr>\n",
       "  </thead>\n",
       "  <tbody>\n",
       "    <tr>\n",
       "      <th>count</th>\n",
       "      <td>100000</td>\n",
       "      <td>100000</td>\n",
       "      <td>100000</td>\n",
       "      <td>100000</td>\n",
       "      <td>100000</td>\n",
       "      <td>100000</td>\n",
       "      <td>100000</td>\n",
       "      <td>100000</td>\n",
       "    </tr>\n",
       "    <tr>\n",
       "      <th>unique</th>\n",
       "      <td>2</td>\n",
       "      <td>2</td>\n",
       "      <td>2</td>\n",
       "      <td>2</td>\n",
       "      <td>2</td>\n",
       "      <td>2</td>\n",
       "      <td>2</td>\n",
       "      <td>2</td>\n",
       "    </tr>\n",
       "    <tr>\n",
       "      <th>top</th>\n",
       "      <td>no</td>\n",
       "      <td>no</td>\n",
       "      <td>no</td>\n",
       "      <td>no</td>\n",
       "      <td>no</td>\n",
       "      <td>no</td>\n",
       "      <td>no</td>\n",
       "      <td>no</td>\n",
       "    </tr>\n",
       "    <tr>\n",
       "      <th>freq</th>\n",
       "      <td>99057</td>\n",
       "      <td>98917</td>\n",
       "      <td>50054</td>\n",
       "      <td>94501</td>\n",
       "      <td>55093</td>\n",
       "      <td>93477</td>\n",
       "      <td>88991</td>\n",
       "      <td>56376</td>\n",
       "    </tr>\n",
       "  </tbody>\n",
       "</table>\n",
       "</div>"
      ],
      "text/plain": [
       "          asia     tub   smoke    lung   bronc  either    xray    dysp\n",
       "count   100000  100000  100000  100000  100000  100000  100000  100000\n",
       "unique       2       2       2       2       2       2       2       2\n",
       "top         no      no      no      no      no      no      no      no\n",
       "freq     99057   98917   50054   94501   55093   93477   88991   56376"
      ]
     },
     "execution_count": 5,
     "metadata": {},
     "output_type": "execute_result"
    }
   ],
   "source": [
    "df.describe()"
   ]
  },
  {
   "cell_type": "code",
   "execution_count": 6,
   "metadata": {},
   "outputs": [
    {
     "data": {
      "text/plain": [
       "Index(['asia', 'tub', 'smoke', 'lung', 'bronc', 'either', 'xray', 'dysp'], dtype='object')"
      ]
     },
     "execution_count": 6,
     "metadata": {},
     "output_type": "execute_result"
    }
   ],
   "source": [
    "df.columns"
   ]
  },
  {
   "attachments": {},
   "cell_type": "markdown",
   "metadata": {},
   "source": [
    "### 2 - Estimación de Estructura"
   ]
  },
  {
   "cell_type": "code",
   "execution_count": 7,
   "metadata": {},
   "outputs": [
    {
     "data": {
      "application/vnd.jupyter.widget-view+json": {
       "model_id": "cb70eb4e525f4ebb916d291c9e44aa75",
       "version_major": 2,
       "version_minor": 0
      },
      "text/plain": [
       "  0%|          | 0/4 [00:00<?, ?it/s]"
      ]
     },
     "metadata": {},
     "output_type": "display_data"
    }
   ],
   "source": [
    "est = PC(data=df)\n",
    "estimated_model = est.estimate(variant=\"stable\", max_cond_vars=4)"
   ]
  },
  {
   "cell_type": "code",
   "execution_count": 8,
   "metadata": {},
   "outputs": [
    {
     "name": "stdout",
     "output_type": "stream",
     "text": [
      "DAG with 8 nodes and 8 edges\n",
      "['tub', 'either', 'xray', 'lung', 'bronc', 'dysp', 'asia', 'smoke']\n",
      "[('tub', 'either'), ('either', 'xray'), ('either', 'dysp'), ('lung', 'either'), ('bronc', 'dysp'), ('asia', 'tub'), ('smoke', 'lung'), ('smoke', 'bronc')]\n"
     ]
    }
   ],
   "source": [
    "print(estimated_model)\n",
    "print(estimated_model.nodes())\n",
    "print(estimated_model.edges())"
   ]
  },
  {
   "cell_type": "code",
   "execution_count": 39,
   "metadata": {},
   "outputs": [
    {
     "data": {
      "image/png": "[encoded data removed]",
      "text/plain": [
       "<Figure size 432x288 with 1 Axes>"
      ]
     },
     "metadata": {},
     "output_type": "display_data"
    }
   ],
   "source": [
    "nodes = list(estimated_model.nodes())\n",
    "edges = list(estimated_model.edges())\n",
    "\n",
    "# Create Graph\n",
    "G = nx.DiGraph()\n",
    "\n",
    "# Add Nodes\n",
    "for node in nodes:\n",
    "    G.add_node(node)\n",
    "    \n",
    "# Add Edges\n",
    "for edge in edges:\n",
    "    G.add_edge(edge[0], edge[1])\n",
    "    \n",
    "# Draw Graph\n",
    "pos = nx.spring_layout(G)\n",
    "nx.draw(G, with_labels=True, node_size=1000, arrows=True)\n",
    "plt.show()"
   ]
  },
  {
   "attachments": {},
   "cell_type": "markdown",
   "metadata": {},
   "source": [
    "### 3 - Red Bayesiana"
   ]
  },
  {
   "cell_type": "code",
   "execution_count": 13,
   "metadata": {},
   "outputs": [],
   "source": [
    "estimated_model = BayesianNetwork(estimated_model)\n",
    "estimated_model.fit(data=df, estimator=MaximumLikelihoodEstimator)"
   ]
  },
  {
   "cell_type": "code",
   "execution_count": 14,
   "metadata": {},
   "outputs": [
    {
     "name": "stdout",
     "output_type": "stream",
     "text": [
      "+----------+----------------------+---------------------+\n",
      "| asia     | asia(no)             | asia(yes)           |\n",
      "+----------+----------------------+---------------------+\n",
      "| tub(no)  | 0.9895918511564049   | 0.9448568398727466  |\n",
      "+----------+----------------------+---------------------+\n",
      "| tub(yes) | 0.010408148843595103 | 0.05514316012725345 |\n",
      "+----------+----------------------+---------------------+\n",
      "+-------------+----------+----------+-----------+-----------+\n",
      "| lung        | lung(no) | lung(no) | lung(yes) | lung(yes) |\n",
      "+-------------+----------+----------+-----------+-----------+\n",
      "| tub         | tub(no)  | tub(yes) | tub(no)   | tub(yes)  |\n",
      "+-------------+----------+----------+-----------+-----------+\n",
      "| either(no)  | 1.0      | 0.0      | 0.0       | 0.0       |\n",
      "+-------------+----------+----------+-----------+-----------+\n",
      "| either(yes) | 0.0      | 1.0      | 1.0       | 1.0       |\n",
      "+-------------+----------+----------+-----------+-----------+\n",
      "+-----------+----------------------+---------------------+\n",
      "| either    | either(no)           | either(yes)         |\n",
      "+-----------+----------------------+---------------------+\n",
      "| xray(no)  | 0.9506402644500787   | 0.01962287291123716 |\n",
      "+-----------+----------------------+---------------------+\n",
      "| xray(yes) | 0.049359735549921374 | 0.9803771270887628  |\n",
      "+-----------+----------------------+---------------------+\n",
      "+-----------+----------------------+---------------------+\n",
      "| smoke     | smoke(no)            | smoke(yes)          |\n",
      "+-----------+----------------------+---------------------+\n",
      "| lung(no)  | 0.9905701842010628   | 0.8993512994033557  |\n",
      "+-----------+----------------------+---------------------+\n",
      "| lung(yes) | 0.009429815798937148 | 0.10064870059664438 |\n",
      "+-----------+----------------------+---------------------+\n",
      "+------------+---------------------+---------------------+\n",
      "| smoke      | smoke(no)           | smoke(yes)          |\n",
      "+------------+---------------------+---------------------+\n",
      "| bronc(no)  | 0.7000039956846605  | 0.40153365634885674 |\n",
      "+------------+---------------------+---------------------+\n",
      "| bronc(yes) | 0.29999600431533946 | 0.5984663436511433  |\n",
      "+------------+---------------------+---------------------+\n",
      "+-----------+---------------------+-----+---------------------+\n",
      "| bronc     | bronc(no)           | ... | bronc(yes)          |\n",
      "+-----------+---------------------+-----+---------------------+\n",
      "| either    | either(no)          | ... | either(yes)         |\n",
      "+-----------+---------------------+-----+---------------------+\n",
      "| dysp(no)  | 0.8995302463809798  | ... | 0.09483960948396095 |\n",
      "+-----------+---------------------+-----+---------------------+\n",
      "| dysp(yes) | 0.10046975361902023 | ... | 0.905160390516039   |\n",
      "+-----------+---------------------+-----+---------------------+\n",
      "+-----------+---------+\n",
      "| asia(no)  | 0.99057 |\n",
      "+-----------+---------+\n",
      "| asia(yes) | 0.00943 |\n",
      "+-----------+---------+\n",
      "+------------+---------+\n",
      "| smoke(no)  | 0.50054 |\n",
      "+------------+---------+\n",
      "| smoke(yes) | 0.49946 |\n",
      "+------------+---------+\n"
     ]
    }
   ],
   "source": [
    "for i in estimated_model.nodes():\n",
    "    print(estimated_model.get_cpds(i))"
   ]
  }
 ],
 "metadata": {
  "kernelspec": {
   "display_name": "Python 3",
   "language": "python",
   "name": "python3"
  },
  "language_info": {
   "codemirror_mode": {
    "name": "ipython",
    "version": 3
   },
   "file_extension": ".py",
   "mimetype": "text/x-python",
   "name": "python",
   "nbconvert_exporter": "python",
   "pygments_lexer": "ipython3",
   "version": "3.10.6"
  },
  "orig_nbformat": 4
 },
 "nbformat": 4,
 "nbformat_minor": 2
}
