{
 "cells": [
  {
   "cell_type": "markdown",
   "metadata": {},
   "source": [
    "# Taller 9\n",
    "\n",
    "### Aprendizaje en Redes Bayesianas: Estructura\n",
    "\n",
    "##### Analítica Computacional para la Toma de Decisiones\n",
    "\n",
    "---\n",
    "\n",
    "|     Nombres      |      Apellidos       |     Login     |  Codigo   |\n",
    "| :--------------: | :------------------: | :-----------: | :-------: |\n",
    "|     Santiago     | Gonzalez Montealegre | s.gonzalez35  | 202012274 |\n",
    "| Juliana Carolina |  Cardenas Barragan   | jc.cardenasb1 | 202011683 |"
   ]
  },
  {
   "attachments": {},
   "cell_type": "markdown",
   "metadata": {},
   "source": [
    "## Estimando la estructura de un modelo a partir de datos: **Puntajes**"
   ]
  },
  {
   "cell_type": "markdown",
   "metadata": {},
   "source": [
    "## Librerías Requeridas"
   ]
  },
  {
   "cell_type": "code",
   "execution_count": 1,
   "metadata": {},
   "outputs": [],
   "source": [
    "import pandas as pd\n",
    "import networkx as nx\n",
    "import matplotlib.pyplot as plt\n",
    "from pgmpy.estimators import HillClimbSearch\n",
    "from pgmpy.estimators import K2Score\n",
    "from pgmpy.estimators import BicScore"
   ]
  },
  {
   "attachments": {},
   "cell_type": "markdown",
   "metadata": {},
   "source": [
    "### Carga de Datos"
   ]
  },
  {
   "cell_type": "code",
   "execution_count": 2,
   "metadata": {},
   "outputs": [
    {
     "data": {
      "text/html": [
       "<div>\n",
       "<style scoped>\n",
       "    .dataframe tbody tr th:only-of-type {\n",
       "        vertical-align: middle;\n",
       "    }\n",
       "\n",
       "    .dataframe tbody tr th {\n",
       "        vertical-align: top;\n",
       "    }\n",
       "\n",
       "    .dataframe thead th {\n",
       "        text-align: right;\n",
       "    }\n",
       "</style>\n",
       "<table border=\"1\" class=\"dataframe\">\n",
       "  <thead>\n",
       "    <tr style=\"text-align: right;\">\n",
       "      <th></th>\n",
       "      <th>asia</th>\n",
       "      <th>tub</th>\n",
       "      <th>smoke</th>\n",
       "      <th>lung</th>\n",
       "      <th>bronc</th>\n",
       "      <th>either</th>\n",
       "      <th>xray</th>\n",
       "      <th>dysp</th>\n",
       "    </tr>\n",
       "  </thead>\n",
       "  <tbody>\n",
       "    <tr>\n",
       "      <th>0</th>\n",
       "      <td>no</td>\n",
       "      <td>no</td>\n",
       "      <td>no</td>\n",
       "      <td>no</td>\n",
       "      <td>yes</td>\n",
       "      <td>no</td>\n",
       "      <td>no</td>\n",
       "      <td>no</td>\n",
       "    </tr>\n",
       "    <tr>\n",
       "      <th>1</th>\n",
       "      <td>no</td>\n",
       "      <td>no</td>\n",
       "      <td>no</td>\n",
       "      <td>yes</td>\n",
       "      <td>no</td>\n",
       "      <td>yes</td>\n",
       "      <td>yes</td>\n",
       "      <td>no</td>\n",
       "    </tr>\n",
       "    <tr>\n",
       "      <th>2</th>\n",
       "      <td>no</td>\n",
       "      <td>no</td>\n",
       "      <td>no</td>\n",
       "      <td>no</td>\n",
       "      <td>no</td>\n",
       "      <td>no</td>\n",
       "      <td>no</td>\n",
       "      <td>no</td>\n",
       "    </tr>\n",
       "    <tr>\n",
       "      <th>3</th>\n",
       "      <td>no</td>\n",
       "      <td>no</td>\n",
       "      <td>yes</td>\n",
       "      <td>no</td>\n",
       "      <td>yes</td>\n",
       "      <td>no</td>\n",
       "      <td>no</td>\n",
       "      <td>yes</td>\n",
       "    </tr>\n",
       "    <tr>\n",
       "      <th>4</th>\n",
       "      <td>no</td>\n",
       "      <td>no</td>\n",
       "      <td>yes</td>\n",
       "      <td>no</td>\n",
       "      <td>no</td>\n",
       "      <td>no</td>\n",
       "      <td>no</td>\n",
       "      <td>no</td>\n",
       "    </tr>\n",
       "  </tbody>\n",
       "</table>\n",
       "</div>"
      ],
      "text/plain": [
       "  asia tub smoke lung bronc either xray dysp\n",
       "0   no  no    no   no   yes     no   no   no\n",
       "1   no  no    no  yes    no    yes  yes   no\n",
       "2   no  no    no   no    no     no   no   no\n",
       "3   no  no   yes   no   yes     no   no  yes\n",
       "4   no  no   yes   no    no     no   no   no"
      ]
     },
     "execution_count": 2,
     "metadata": {},
     "output_type": "execute_result"
    }
   ],
   "source": [
    "df = pd.read_csv(\"../Data/data_asia.csv\")\n",
    "df.drop(\"Unnamed: 0\", axis=1, inplace=True)\n",
    "\n",
    "df.head()"
   ]
  },
  {
   "attachments": {},
   "cell_type": "markdown",
   "metadata": {},
   "source": [
    "### 1 - Estimación de Estructura - Puntaje K2"
   ]
  },
  {
   "cell_type": "code",
   "execution_count": 3,
   "metadata": {},
   "outputs": [
    {
     "data": {
      "application/vnd.jupyter.widget-view+json": {
       "model_id": "73cfddaf878548e9ab250111d110fd22",
       "version_major": 2,
       "version_minor": 0
      },
      "text/plain": [
       "  0%|          | 0/10000 [00:00<?, ?it/s]"
      ]
     },
     "metadata": {},
     "output_type": "display_data"
    }
   ],
   "source": [
    "scoring_method = K2Score(data=df)\n",
    "esth = HillClimbSearch(data=df)\n",
    "\n",
    "estimated_model_k2 = esth.estimate(\n",
    "    scoring_method=scoring_method,\n",
    "    max_indegree=4,\n",
    "    max_iter=int(1e4)\n",
    "    )"
   ]
  },
  {
   "cell_type": "code",
   "execution_count": 4,
   "metadata": {},
   "outputs": [
    {
     "name": "stdout",
     "output_type": "stream",
     "text": [
      "DAG with 8 nodes and 9 edges\n",
      "['asia', 'tub', 'smoke', 'lung', 'bronc', 'either', 'xray', 'dysp']\n",
      "[('asia', 'tub'), ('tub', 'either'), ('tub', 'dysp'), ('smoke', 'bronc'), ('lung', 'either'), ('lung', 'dysp'), ('lung', 'smoke'), ('bronc', 'dysp'), ('either', 'xray')]\n"
     ]
    }
   ],
   "source": [
    "print(estimated_model_k2)\n",
    "print(estimated_model_k2.nodes())\n",
    "print(estimated_model_k2.edges())"
   ]
  },
  {
   "cell_type": "code",
   "execution_count": 11,
   "metadata": {},
   "outputs": [
    {
     "data": {
      "image/png": "[encoded data removed]",
      "text/plain": [
       "<Figure size 432x288 with 1 Axes>"
      ]
     },
     "metadata": {},
     "output_type": "display_data"
    }
   ],
   "source": [
    "nodes = list(estimated_model_k2.nodes())\n",
    "edges = list(estimated_model_k2.edges())\n",
    "\n",
    "# Create Graph\n",
    "G = nx.DiGraph()\n",
    "\n",
    "# Add Nodes\n",
    "for node in nodes:\n",
    "    G.add_node(node)\n",
    "    \n",
    "# Add Edges\n",
    "for edge in edges:\n",
    "    G.add_edge(edge[0], edge[1])\n",
    "    \n",
    "# Draw Graph\n",
    "pos = nx.spring_layout(G)\n",
    "nx.draw(G, with_labels=True, node_size=1000, arrows=True)\n",
    "plt.show()"
   ]
  },
  {
   "attachments": {},
   "cell_type": "markdown",
   "metadata": {},
   "source": [
    "### 2 - Puntaje"
   ]
  },
  {
   "cell_type": "code",
   "execution_count": 6,
   "metadata": {},
   "outputs": [
    {
     "name": "stdout",
     "output_type": "stream",
     "text": [
      "-223501.6696113951\n"
     ]
    }
   ],
   "source": [
    "print(scoring_method.score(estimated_model_k2))"
   ]
  },
  {
   "attachments": {},
   "cell_type": "markdown",
   "metadata": {},
   "source": [
    "### 3 - Estimación de Estructura - Puntaje BIC"
   ]
  },
  {
   "cell_type": "code",
   "execution_count": 7,
   "metadata": {},
   "outputs": [
    {
     "data": {
      "application/vnd.jupyter.widget-view+json": {
       "model_id": "bc8ee04d83d84d2eab2c3a794e8d4808",
       "version_major": 2,
       "version_minor": 0
      },
      "text/plain": [
       "  0%|          | 0/10000 [00:00<?, ?it/s]"
      ]
     },
     "metadata": {},
     "output_type": "display_data"
    }
   ],
   "source": [
    "scoring_method = BicScore(data=df)\n",
    "esth = HillClimbSearch(data=df)\n",
    "\n",
    "estimated_model_bic = esth.estimate(\n",
    "    scoring_method=scoring_method,\n",
    "    max_indegree=4,\n",
    "    max_iter=int(1e4)\n",
    "    )"
   ]
  },
  {
   "cell_type": "code",
   "execution_count": 8,
   "metadata": {},
   "outputs": [
    {
     "name": "stdout",
     "output_type": "stream",
     "text": [
      "DAG with 8 nodes and 11 edges\n",
      "['asia', 'tub', 'smoke', 'lung', 'bronc', 'either', 'xray', 'dysp']\n",
      "[('tub', 'lung'), ('tub', 'asia'), ('lung', 'smoke'), ('bronc', 'smoke'), ('bronc', 'tub'), ('either', 'lung'), ('either', 'tub'), ('either', 'dysp'), ('either', 'bronc'), ('xray', 'either'), ('dysp', 'bronc')]\n"
     ]
    }
   ],
   "source": [
    "print(estimated_model_bic)\n",
    "print(estimated_model_bic.nodes())\n",
    "print(estimated_model_bic.edges())"
   ]
  },
  {
   "cell_type": "code",
   "execution_count": 18,
   "metadata": {},
   "outputs": [
    {
     "data": {
      "image/png": "[encoded data removed]",
      "text/plain": [
       "<Figure size 432x288 with 1 Axes>"
      ]
     },
     "metadata": {},
     "output_type": "display_data"
    }
   ],
   "source": [
    "nodes = list(estimated_model_bic.nodes())\n",
    "edges = list(estimated_model_bic.edges())\n",
    "\n",
    "# Create Graph\n",
    "G = nx.DiGraph()\n",
    "\n",
    "# Add Nodes\n",
    "for node in nodes:\n",
    "    G.add_node(node)\n",
    "    \n",
    "# Add Edges\n",
    "for edge in edges:\n",
    "    G.add_edge(edge[0], edge[1])\n",
    "    \n",
    "# Draw Graph\n",
    "pos = nx.spring_layout(G)\n",
    "nx.draw(G, with_labels=True, node_size=1000, arrows=True)\n",
    "plt.show()"
   ]
  },
  {
   "cell_type": "code",
   "execution_count": 10,
   "metadata": {},
   "outputs": [
    {
     "name": "stdout",
     "output_type": "stream",
     "text": [
      "-223511.1755785502\n"
     ]
    }
   ],
   "source": [
    "print(scoring_method.score(estimated_model_bic))"
   ]
  }
 ],
 "metadata": {
  "kernelspec": {
   "display_name": "Python 3",
   "language": "python",
   "name": "python3"
  },
  "language_info": {
   "codemirror_mode": {
    "name": "ipython",
    "version": 3
   },
   "file_extension": ".py",
   "mimetype": "text/x-python",
   "name": "python",
   "nbconvert_exporter": "python",
   "pygments_lexer": "ipython3",
   "version": "3.10.6"
  },
  "orig_nbformat": 4
 },
 "nbformat": 4,
 "nbformat_minor": 2
}
